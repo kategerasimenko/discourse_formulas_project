{
 "cells": [
  {
   "cell_type": "markdown",
   "metadata": {},
   "source": [
    "# Дискурсивные формулы\n",
    "## На данный момент:\n",
    "+ 10 текстов\n",
    "+ 34663 псевдоклаузы\n",
    "+ Доля класса 1 (формулы) - 4.4 %\n",
    "+ Доля класса 0 (не формулы) - 95.6 %"
   ]
  },
  {
   "cell_type": "code",
   "execution_count": 1,
   "metadata": {
    "collapsed": false
   },
   "outputs": [],
   "source": [
    "import numpy as np \n",
    "import pandas as pd\n",
    "from scipy.sparse import csr_matrix, hstack, vstack\n",
    "from sklearn.ensemble import RandomForestClassifier\n",
    "from sklearn.model_selection import train_test_split\n",
    "from sklearn.feature_extraction.text import TfidfVectorizer\n",
    "from sklearn.model_selection import StratifiedKFold, cross_val_predict\n",
    "from sklearn.metrics import classification_report, accuracy_score\n",
    "from sklearn.linear_model import RidgeClassifier\n",
    "from sklearn.svm import LinearSVC\n",
    "import time\n",
    "import pickle\n",
    "\n",
    "class Profiler():\n",
    "    def __enter__(self):\n",
    "        self._startTime = time.time()\n",
    "         \n",
    "    def __exit__(self, type, value, traceback):\n",
    "        print (\"Время обучения: {:.3f} секунд\".format(time.time() - self._startTime))\n",
    "\n",
    "seed = 42"
   ]
  },
  {
   "cell_type": "code",
   "execution_count": 2,
   "metadata": {
    "collapsed": false
   },
   "outputs": [
    {
     "data": {
      "text/plain": [
       "(67239, 27)"
      ]
     },
     "execution_count": 2,
     "metadata": {},
     "output_type": "execute_result"
    }
   ],
   "source": [
    "data = pd.read_csv('train_data.csv', encoding = 'utf-8-sig', sep = ';')\n",
    "data.shape"
   ]
  },
  {
   "cell_type": "code",
   "execution_count": 3,
   "metadata": {
    "collapsed": false
   },
   "outputs": [],
   "source": [
    "target = pd.read_csv('train_target.csv',encoding = 'utf-8-sig', sep = ';' )\n",
    "target.ix[data['First'] == 0,'\"Target\"'] = 0"
   ]
  },
  {
   "cell_type": "code",
   "execution_count": 4,
   "metadata": {
    "collapsed": false
   },
   "outputs": [
    {
     "name": "stdout",
     "output_type": "stream",
     "text": [
      "Доля формул в выборке:\n",
      "0.0335370841327\n",
      "Доля НЕ формул в выборке:\n",
      "0.966462915867\n"
     ]
    }
   ],
   "source": [
    "print('Доля формул в выборке:')\n",
    "print(target['\"Target\"'].value_counts()[1]/len(target))\n",
    "print('Доля НЕ формул в выборке:')\n",
    "print(target['\"Target\"'].value_counts()[0]/len(target))"
   ]
  },
  {
   "cell_type": "code",
   "execution_count": 5,
   "metadata": {
    "collapsed": false
   },
   "outputs": [
    {
     "data": {
      "text/plain": [
       "((64153, 27), (64153,))"
      ]
     },
     "execution_count": 5,
     "metadata": {},
     "output_type": "execute_result"
    }
   ],
   "source": [
    "# в качестве теста - взять один текст от лучшего размечающего\n",
    "test_indices = data[data['\"Text_id\"'] == 'Puzhaeva_Тургенев. Где тонко там и рвется'].index.tolist()\n",
    "texts_test = data[['\"Text_id\"','Text']][data['\"Text_id\"'] == 'Puzhaeva_Тургенев. Где тонко там и рвется']\n",
    "X_test = data[test_indices[0]:test_indices[-1]+1]\n",
    "y_test = np.array(target[test_indices[0]:test_indices[-1]+1]).reshape(-1,)\n",
    "X_train = data.drop(test_indices)\n",
    "y_train = np.array(target.drop(test_indices)).reshape(-1,)\n",
    "X_train.shape, y_train.shape"
   ]
  },
  {
   "cell_type": "code",
   "execution_count": 6,
   "metadata": {
    "collapsed": false,
    "scrolled": false
   },
   "outputs": [],
   "source": [
    "# векторизаторы по словам и символам\n",
    "tfidf = TfidfVectorizer(min_df = 10, ngram_range = (1,2))\n",
    "tfidf_char = TfidfVectorizer(min_df = 10, ngram_range = (3,4),analyzer='char')"
   ]
  },
  {
   "cell_type": "code",
   "execution_count": 7,
   "metadata": {
    "collapsed": false
   },
   "outputs": [],
   "source": [
    "# фиттим на всех данных, трансформируем текст клауз тренировочной и тестовой выборок, а также все данные \n",
    "tfidf.fit(data['Text'])\n",
    "tfidf_train = tfidf.transform(X_train['Text'])\n",
    "tfidf_test = tfidf.transform(X_test['Text'])\n",
    "tfidf_texts = tfidf.transform(data['Text'])\n",
    "\n",
    "tfidf_char.fit(data['Text'])\n",
    "tfidf_char_train = tfidf_char.transform(X_train['Text'])\n",
    "tfidf_char_test = tfidf_char.transform(X_test['Text'])\n",
    "tfidf_char_texts = tfidf_char.transform(data['Text'])"
   ]
  },
  {
   "cell_type": "code",
   "execution_count": 8,
   "metadata": {
    "collapsed": false
   },
   "outputs": [],
   "source": [
    "# удаляем ненужные колонки, трансформируем наши существующие признаки в разреженную матрицу, чтобы объединить с существующими\n",
    "# векторизированными признаками\n",
    "X_train = X_train.drop(['Text','\"Text_id\"'],axis=1)\n",
    "X_test = X_test.drop(['Text','\"Text_id\"'],axis=1)\n",
    "X_train_sparse = csr_matrix(X_train)\n",
    "X_test_sparse = csr_matrix(X_test)\n",
    "alldata_sparse = csr_matrix(data.drop(['Text','\"Text_id\"'],axis=1))"
   ]
  },
  {
   "cell_type": "code",
   "execution_count": 9,
   "metadata": {
    "collapsed": false
   },
   "outputs": [
    {
     "data": {
      "text/plain": [
       "<3086x20361 sparse matrix of type '<class 'numpy.float64'>'\n",
       "\twith 101608 stored elements in COOrdinate format>"
      ]
     },
     "execution_count": 9,
     "metadata": {},
     "output_type": "execute_result"
    }
   ],
   "source": [
    "# объединение матриц\n",
    "X_train_tfidf = hstack((tfidf_train,tfidf_char_train,X_train_sparse))\n",
    "X_test_tfidf = hstack((tfidf_test,tfidf_char_test,X_test_sparse))\n",
    "data_tfidf = hstack((tfidf_texts,tfidf_char_texts,alldata_sparse))\n",
    "\n",
    "X_test_tfidf"
   ]
  },
  {
   "cell_type": "code",
   "execution_count": 10,
   "metadata": {
    "collapsed": false,
    "scrolled": false
   },
   "outputs": [
    {
     "data": {
      "text/plain": [
       "<64153x20361 sparse matrix of type '<class 'numpy.float64'>'\n",
       "\twith 2033124 stored elements in COOrdinate format>"
      ]
     },
     "execution_count": 10,
     "metadata": {},
     "output_type": "execute_result"
    }
   ],
   "source": [
    "X_train_tfidf"
   ]
  },
  {
   "cell_type": "markdown",
   "metadata": {},
   "source": [
    "## Кластеризация"
   ]
  },
  {
   "cell_type": "code",
   "execution_count": 11,
   "metadata": {
    "collapsed": false
   },
   "outputs": [
    {
     "data": {
      "text/plain": [
       "KMeans(algorithm='auto', copy_x=True, init='k-means++', max_iter=300,\n",
       "    n_clusters=2, n_init=10, n_jobs=1, precompute_distances='auto',\n",
       "    random_state=42, tol=0.0001, verbose=0)"
      ]
     },
     "execution_count": 11,
     "metadata": {},
     "output_type": "execute_result"
    }
   ],
   "source": [
    "from sklearn.cluster import KMeans\n",
    "kmeans = KMeans(n_clusters = 2,random_state=seed)\n",
    "kmeans.fit(data_tfidf)"
   ]
  },
  {
   "cell_type": "code",
   "execution_count": 12,
   "metadata": {
    "collapsed": true
   },
   "outputs": [],
   "source": [
    "kmeans_new = [1 if i == 0 else 0 for i in kmeans.labels_ ] # реальные метки классов, а не наоборот"
   ]
  },
  {
   "cell_type": "code",
   "execution_count": 13,
   "metadata": {
    "collapsed": false,
    "scrolled": true
   },
   "outputs": [
    {
     "name": "stdout",
     "output_type": "stream",
     "text": [
      "Accuracy:\n",
      "0.321450348756\n",
      "             precision    recall  f1-score   support\n",
      "\n",
      "          0       1.00      0.30      0.46     64984\n",
      "          1       0.05      0.98      0.09      2255\n",
      "\n",
      "avg / total       0.97      0.32      0.45     67239\n",
      "\n"
     ]
    }
   ],
   "source": [
    "# на кросс-валидации\n",
    "from sklearn.metrics import classification_report, accuracy_score\n",
    "print('Accuracy:')\n",
    "print(accuracy_score(np.array(target['\"Target\"']).reshape(-1,), kmeans_new))\n",
    "print(classification_report(np.array(target['\"Target\"']).reshape(-1,), kmeans_new))"
   ]
  },
  {
   "cell_type": "code",
   "execution_count": 14,
   "metadata": {
    "collapsed": false
   },
   "outputs": [],
   "source": [
    "# присоединить столбец с метками классов к матрице признаков\n",
    "cluster_sparse = csr_matrix(np.array(kmeans.labels_).reshape(-1, 1))\n",
    "clust_tfidf = hstack((data_tfidf, cluster_sparse))"
   ]
  },
  {
   "cell_type": "code",
   "execution_count": 15,
   "metadata": {
    "collapsed": false
   },
   "outputs": [
    {
     "data": {
      "text/plain": [
       "(67239, 20362)"
      ]
     },
     "execution_count": 15,
     "metadata": {},
     "output_type": "execute_result"
    }
   ],
   "source": [
    "clust_tfidf.shape"
   ]
  },
  {
   "cell_type": "markdown",
   "metadata": {},
   "source": [
    "## Обучение нескольких классификаторов на даных + метках кластеров"
   ]
  },
  {
   "cell_type": "markdown",
   "metadata": {},
   "source": [
    "### Random Forest"
   ]
  },
  {
   "cell_type": "code",
   "execution_count": 16,
   "metadata": {
    "collapsed": false
   },
   "outputs": [],
   "source": [
    "clf = RandomForestClassifier(n_estimators=300,\n",
    "                             criterion='entropy',\n",
    "                             min_samples_leaf=5,\n",
    "                             class_weight = {1:30,0:1},\n",
    "                             random_state=seed)"
   ]
  },
  {
   "cell_type": "code",
   "execution_count": 17,
   "metadata": {
    "collapsed": false,
    "scrolled": true
   },
   "outputs": [
    {
     "name": "stderr",
     "output_type": "stream",
     "text": [
      "[Parallel(n_jobs=1)]: Done   1 out of   1 | elapsed:  1.5min remaining:    0.0s\n",
      "[Parallel(n_jobs=1)]: Done   2 out of   2 | elapsed:  2.9min remaining:    0.0s\n",
      "[Parallel(n_jobs=1)]: Done   3 out of   3 | elapsed:  4.1min remaining:    0.0s\n",
      "[Parallel(n_jobs=1)]: Done   4 out of   4 | elapsed:  5.4min remaining:    0.0s\n",
      "[Parallel(n_jobs=1)]: Done   5 out of   5 | elapsed:  6.7min finished\n"
     ]
    }
   ],
   "source": [
    "# кроссвалидация по пяти фолдам\n",
    "skf = StratifiedKFold(n_splits = 5, random_state = seed)\n",
    "cv_pred = cross_val_predict(clf, clust_tfidf, np.array(target['\"Target\"']).reshape(-1,), cv = skf, verbose = 5)"
   ]
  },
  {
   "cell_type": "code",
   "execution_count": 18,
   "metadata": {
    "collapsed": false
   },
   "outputs": [
    {
     "name": "stdout",
     "output_type": "stream",
     "text": [
      "7264\n",
      "6144\n"
     ]
    }
   ],
   "source": [
    "# удаление предсказанных формул, находящихся после третьей псевдоклаузы - по теоретическим соображениям\n",
    "print(np.sum(cv_pred))\n",
    "for i,pr in enumerate(cv_pred):\n",
    "    if data['First'][i] == 0:\n",
    "        cv_pred[i] = 0\n",
    "print(np.sum(cv_pred))"
   ]
  },
  {
   "cell_type": "code",
   "execution_count": 19,
   "metadata": {
    "collapsed": false,
    "scrolled": true
   },
   "outputs": [
    {
     "name": "stdout",
     "output_type": "stream",
     "text": [
      "Accuracy:\n",
      "0.929430836271\n",
      "             precision    recall  f1-score   support\n",
      "\n",
      "          0       0.99      0.93      0.96     64984\n",
      "          1       0.30      0.81      0.44      2255\n",
      "\n",
      "avg / total       0.97      0.93      0.94     67239\n",
      "\n"
     ]
    }
   ],
   "source": [
    "# на кросс-валидации\n",
    "print('Accuracy:')\n",
    "print(accuracy_score(np.array(target['\"Target\"']).reshape(-1,), cv_pred))\n",
    "print(classification_report(np.array(target['\"Target\"']).reshape(-1,), cv_pred))"
   ]
  },
  {
   "cell_type": "code",
   "execution_count": 20,
   "metadata": {
    "collapsed": false
   },
   "outputs": [
    {
     "data": {
      "text/plain": [
       "RandomForestClassifier(bootstrap=True, class_weight={0: 1, 1: 30},\n",
       "            criterion='entropy', max_depth=None, max_features='auto',\n",
       "            max_leaf_nodes=None, min_impurity_split=1e-07,\n",
       "            min_samples_leaf=5, min_samples_split=2,\n",
       "            min_weight_fraction_leaf=0.0, n_estimators=300, n_jobs=1,\n",
       "            oob_score=False, random_state=42, verbose=0, warm_start=False)"
      ]
     },
     "execution_count": 20,
     "metadata": {},
     "output_type": "execute_result"
    }
   ],
   "source": [
    "clf.fit(clust_tfidf,np.array(target['\"Target\"']).reshape(-1,))"
   ]
  },
  {
   "cell_type": "code",
   "execution_count": 21,
   "metadata": {
    "collapsed": false
   },
   "outputs": [
    {
     "name": "stdout",
     "output_type": "stream",
     "text": [
      "First - 0.113551485093\n",
      "NOUN - 0.0366595635463\n",
      "Subject - 0.0302320633282\n",
      "Len - 0.0285895905731\n",
      "Predicate - 0.0154264065805\n",
      "ну - 0.0138512424436\n",
      "NPRO - 0.0121761419333\n",
      "да - 0.0120932432696\n",
      "VERB - 0.0119049117129\n",
      "PRCL - 0.011388894497\n",
      "нет - 0.0110805051125\n",
      "PREP - 0.00824441040849\n",
      "INTJ - 0.00803984234774\n",
      "нет - 0.00799921380934\n",
      "PRED - 0.00611395138366\n",
      "Object - 0.00554422212095\n",
      "ADJF - 0.00548578082641\n",
      "ADVB - 0.00461236890275\n",
      "на  - 0.00388910700349\n",
      "не  - 0.00354888426573\n"
     ]
    }
   ],
   "source": [
    " # топ-20 признаков с весами из решающего леса\n",
    "fs = tfidf.get_feature_names() + tfidf_char.get_feature_names() + list(X_train.columns)\n",
    "wfs = list(zip(fs,clf.feature_importances_))\n",
    "wfs = sorted(wfs,key=lambda x: x[1],reverse = True)\n",
    "for w in wfs[:20]:\n",
    "    print(w[0],w[1],sep=' - ')"
   ]
  },
  {
   "cell_type": "markdown",
   "metadata": {},
   "source": [
    "### Logistic Regression"
   ]
  },
  {
   "cell_type": "code",
   "execution_count": 22,
   "metadata": {
    "collapsed": false,
    "scrolled": true
   },
   "outputs": [
    {
     "name": "stderr",
     "output_type": "stream",
     "text": [
      "[Parallel(n_jobs=1)]: Done   1 out of   1 | elapsed:   23.7s remaining:    0.0s\n",
      "[Parallel(n_jobs=1)]: Done   2 out of   2 | elapsed:   47.7s remaining:    0.0s\n",
      "[Parallel(n_jobs=1)]: Done   3 out of   3 | elapsed:  1.2min remaining:    0.0s\n",
      "[Parallel(n_jobs=1)]: Done   4 out of   4 | elapsed:  1.7min remaining:    0.0s\n",
      "[Parallel(n_jobs=1)]: Done   5 out of   5 | elapsed:  2.1min finished\n"
     ]
    }
   ],
   "source": [
    "# logit\n",
    "from sklearn.linear_model import LogisticRegressionCV\n",
    "logit = LogisticRegressionCV(class_weight={1:30,0:1},random_state=seed)\n",
    "cv_logit = cross_val_predict(logit, clust_tfidf, np.array(target['\"Target\"']).reshape(-1,), cv = skf, verbose = 5)"
   ]
  },
  {
   "cell_type": "code",
   "execution_count": 23,
   "metadata": {
    "collapsed": false,
    "scrolled": true
   },
   "outputs": [
    {
     "name": "stdout",
     "output_type": "stream",
     "text": [
      "5440\n",
      "5440\n"
     ]
    }
   ],
   "source": [
    "print(np.sum(cv_logit))\n",
    "for i,pr in enumerate(cv_logit):\n",
    "    if data['First'][i] == 0:\n",
    "        cv_logit[i] = 0\n",
    "print(np.sum(cv_logit))"
   ]
  },
  {
   "cell_type": "code",
   "execution_count": 24,
   "metadata": {
    "collapsed": false
   },
   "outputs": [
    {
     "name": "stdout",
     "output_type": "stream",
     "text": [
      "Accuracy:\n",
      "0.939335802139\n",
      "             precision    recall  f1-score   support\n",
      "\n",
      "          0       0.99      0.94      0.97     64984\n",
      "          1       0.33      0.80      0.47      2255\n",
      "\n",
      "avg / total       0.97      0.94      0.95     67239\n",
      "\n"
     ]
    }
   ],
   "source": [
    "# на кросс-валидации\n",
    "from sklearn.metrics import classification_report, accuracy_score\n",
    "print('Accuracy:')\n",
    "print(accuracy_score(np.array(target['\"Target\"']).reshape(-1,), cv_logit))\n",
    "print(classification_report(np.array(target['\"Target\"']).reshape(-1,), cv_logit))"
   ]
  },
  {
   "cell_type": "markdown",
   "metadata": {},
   "source": [
    "### Ridge Classifier"
   ]
  },
  {
   "cell_type": "code",
   "execution_count": 25,
   "metadata": {
    "collapsed": false
   },
   "outputs": [
    {
     "name": "stderr",
     "output_type": "stream",
     "text": [
      "[Parallel(n_jobs=1)]: Done   1 out of   1 | elapsed:    1.4s remaining:    0.0s\n",
      "[Parallel(n_jobs=1)]: Done   2 out of   2 | elapsed:    2.8s remaining:    0.0s\n",
      "[Parallel(n_jobs=1)]: Done   3 out of   3 | elapsed:    4.2s remaining:    0.0s\n",
      "[Parallel(n_jobs=1)]: Done   4 out of   4 | elapsed:    5.7s remaining:    0.0s\n"
     ]
    },
    {
     "name": "stdout",
     "output_type": "stream",
     "text": [
      "Accuracy:\n",
      "0.900102619016\n",
      "             precision    recall  f1-score   support\n",
      "\n",
      "          0       0.99      0.90      0.95     64984\n",
      "          1       0.23      0.85      0.36      2255\n",
      "\n",
      "avg / total       0.97      0.90      0.93     67239\n",
      "\n"
     ]
    },
    {
     "name": "stderr",
     "output_type": "stream",
     "text": [
      "[Parallel(n_jobs=1)]: Done   5 out of   5 | elapsed:    7.1s finished\n"
     ]
    }
   ],
   "source": [
    "clf = RidgeClassifier(alpha=40,class_weight={1:30,0:1},random_state=seed)\n",
    "cv_ridge = cross_val_predict(clf, clust_tfidf, np.array(target['\"Target\"']).reshape(-1,), cv = skf, verbose = 5)\n",
    "print('Accuracy:')\n",
    "print(accuracy_score(np.array(target['\"Target\"']).reshape(-1,), cv_ridge))\n",
    "print(classification_report(np.array(target['\"Target\"']).reshape(-1,), cv_ridge))"
   ]
  },
  {
   "cell_type": "code",
   "execution_count": 26,
   "metadata": {
    "collapsed": false
   },
   "outputs": [
    {
     "name": "stdout",
     "output_type": "stream",
     "text": [
      "8316\n",
      "6769\n"
     ]
    }
   ],
   "source": [
    "print(np.sum(cv_ridge))\n",
    "for i,pr in enumerate(cv_ridge):\n",
    "    if data['First'][i] == 0:\n",
    "        cv_ridge[i] = 0\n",
    "print(np.sum(cv_ridge))"
   ]
  },
  {
   "cell_type": "markdown",
   "metadata": {},
   "source": [
    "### Support Vector Classifier"
   ]
  },
  {
   "cell_type": "code",
   "execution_count": 27,
   "metadata": {
    "collapsed": false
   },
   "outputs": [
    {
     "name": "stderr",
     "output_type": "stream",
     "text": [
      "[Parallel(n_jobs=1)]: Done   1 out of   1 | elapsed:    2.2s remaining:    0.0s\n",
      "[Parallel(n_jobs=1)]: Done   2 out of   2 | elapsed:    4.3s remaining:    0.0s\n",
      "[Parallel(n_jobs=1)]: Done   3 out of   3 | elapsed:    7.1s remaining:    0.0s\n",
      "[Parallel(n_jobs=1)]: Done   4 out of   4 | elapsed:   10.2s remaining:    0.0s\n"
     ]
    },
    {
     "name": "stdout",
     "output_type": "stream",
     "text": [
      "Accuracy:\n",
      "0.928374901471\n",
      "             precision    recall  f1-score   support\n",
      "\n",
      "          0       0.99      0.93      0.96     64984\n",
      "          1       0.30      0.86      0.45      2255\n",
      "\n",
      "avg / total       0.97      0.93      0.94     67239\n",
      "\n"
     ]
    },
    {
     "name": "stderr",
     "output_type": "stream",
     "text": [
      "[Parallel(n_jobs=1)]: Done   5 out of   5 | elapsed:   12.5s finished\n"
     ]
    }
   ],
   "source": [
    "clf = LinearSVC(C=0.05,\n",
    "                class_weight={1:30,0:1},\n",
    "                random_state=seed)\n",
    "cv_svc = cross_val_predict(clf, clust_tfidf, np.array(target['\"Target\"']).reshape(-1,), cv = skf, verbose = 5)\n",
    "print('Accuracy:')\n",
    "print(accuracy_score(np.array(target['\"Target\"']).reshape(-1,), cv_svc))\n",
    "print(classification_report(np.array(target['\"Target\"']).reshape(-1,), cv_svc))"
   ]
  },
  {
   "cell_type": "code",
   "execution_count": 28,
   "metadata": {
    "collapsed": false
   },
   "outputs": [
    {
     "name": "stdout",
     "output_type": "stream",
     "text": [
      "6423\n",
      "6423\n"
     ]
    }
   ],
   "source": [
    "print(np.sum(cv_svc))\n",
    "for i,pr in enumerate(cv_svc):\n",
    "    if data['First'][i] == 0:\n",
    "        cv_svc[i] = 0\n",
    "print(np.sum(cv_svc))"
   ]
  },
  {
   "cell_type": "code",
   "execution_count": 29,
   "metadata": {
    "collapsed": true
   },
   "outputs": [],
   "source": [
    "y_true = np.array(target['\"Target\"']).reshape(-1,)"
   ]
  },
  {
   "cell_type": "markdown",
   "metadata": {},
   "source": [
    "## Взвешенное голосование "
   ]
  },
  {
   "cell_type": "code",
   "execution_count": 30,
   "metadata": {
    "collapsed": false
   },
   "outputs": [],
   "source": [
    "cv_cum = [int(round((cv_pred[i]*0.2 + cv_ridge[i]*0.2 + kmeans_new[i]*0.2 \n",
    "                 + cv_svc[i]*0.2 + cv_logit[i]*0.2))) for i in range(len(cv_pred))]"
   ]
  },
  {
   "cell_type": "code",
   "execution_count": 31,
   "metadata": {
    "collapsed": false
   },
   "outputs": [
    {
     "name": "stdout",
     "output_type": "stream",
     "text": [
      "Accuracy:\n",
      "0.929609304124\n",
      "             precision    recall  f1-score   support\n",
      "\n",
      "          0       0.99      0.93      0.96     64984\n",
      "          1       0.30      0.86      0.45      2255\n",
      "\n",
      "avg / total       0.97      0.93      0.95     67239\n",
      "\n"
     ]
    }
   ],
   "source": [
    "print('Accuracy:')\n",
    "print(accuracy_score(np.array(target['\"Target\"']).reshape(-1,), cv_cum))\n",
    "print(classification_report(np.array(target['\"Target\"']).reshape(-1,), cv_cum)) "
   ]
  },
  {
   "cell_type": "markdown",
   "metadata": {},
   "source": [
    "# тест"
   ]
  },
  {
   "cell_type": "code",
   "execution_count": 32,
   "metadata": {
    "collapsed": true
   },
   "outputs": [],
   "source": [
    "# preprocessing\n",
    "tfidf = TfidfVectorizer(min_df = 10, ngram_range = (1,2))\n",
    "tfidf_char = TfidfVectorizer(min_df = 10, ngram_range = (3,4),analyzer='char')"
   ]
  },
  {
   "cell_type": "code",
   "execution_count": 33,
   "metadata": {
    "collapsed": true
   },
   "outputs": [],
   "source": [
    "#models\n",
    "forest = RandomForestClassifier(n_estimators=300,\n",
    "                                criterion='entropy',\n",
    "                                min_samples_leaf=5,\n",
    "                                class_weight = {1:30,0:1},\n",
    "                                random_state=seed)\n",
    "\n",
    "logit = LogisticRegressionCV(class_weight={1:30,0:1},\n",
    "                             random_state=seed)\n",
    "\n",
    "kmeans = KMeans(n_clusters=2,\n",
    "                random_state=seed)\n",
    "\n",
    "ridge = RidgeClassifier(alpha=40,\n",
    "                        class_weight={1:30,0:1},\n",
    "                        random_state=seed)\n",
    "\n",
    "svc = LinearSVC(C=0.05,\n",
    "                class_weight={1:30,0:1},\n",
    "                random_state=seed)"
   ]
  },
  {
   "cell_type": "code",
   "execution_count": 34,
   "metadata": {
    "collapsed": false
   },
   "outputs": [
    {
     "data": {
      "text/plain": [
       "TfidfVectorizer(analyzer='char', binary=False, decode_error='strict',\n",
       "        dtype=<class 'numpy.int64'>, encoding='utf-8', input='content',\n",
       "        lowercase=True, max_df=1.0, max_features=None, min_df=10,\n",
       "        ngram_range=(3, 4), norm='l2', preprocessor=None, smooth_idf=True,\n",
       "        stop_words=None, strip_accents=None, sublinear_tf=False,\n",
       "        token_pattern='(?u)\\\\b\\\\w\\\\w+\\\\b', tokenizer=None, use_idf=True,\n",
       "        vocabulary=None)"
      ]
     },
     "execution_count": 34,
     "metadata": {},
     "output_type": "execute_result"
    }
   ],
   "source": [
    "tfidf.fit(data['Text'])\n",
    "tfidf_char.fit(data['Text'])"
   ]
  },
  {
   "cell_type": "code",
   "execution_count": 35,
   "metadata": {
    "collapsed": false
   },
   "outputs": [
    {
     "data": {
      "text/plain": [
       "RidgeClassifier(alpha=40, class_weight={0: 1, 1: 30}, copy_X=True,\n",
       "        fit_intercept=True, max_iter=None, normalize=False,\n",
       "        random_state=42, solver='auto', tol=0.001)"
      ]
     },
     "execution_count": 35,
     "metadata": {},
     "output_type": "execute_result"
    }
   ],
   "source": [
    "kmeans.fit(data_tfidf)\n",
    "forest.fit(clust_tfidf, y_true)\n",
    "logit.fit(clust_tfidf, y_true)\n",
    "svc.fit(clust_tfidf, y_true)\n",
    "ridge.fit(clust_tfidf, y_true)"
   ]
  },
  {
   "cell_type": "code",
   "execution_count": 37,
   "metadata": {
    "collapsed": true
   },
   "outputs": [],
   "source": [
    "test_data = pd.read_csv('test_data.csv', encoding = 'utf-8-sig', sep = ';')\n",
    "test_target = pd.read_csv('test_target.csv',encoding = 'utf-8-sig', sep = ';' )"
   ]
  },
  {
   "cell_type": "code",
   "execution_count": 38,
   "metadata": {
    "collapsed": false
   },
   "outputs": [
    {
     "data": {
      "text/plain": [
       "4631"
      ]
     },
     "execution_count": 38,
     "metadata": {},
     "output_type": "execute_result"
    }
   ],
   "source": [
    "len(test_data)"
   ]
  },
  {
   "cell_type": "code",
   "execution_count": 39,
   "metadata": {
    "collapsed": false
   },
   "outputs": [],
   "source": [
    "tfidf_test = tfidf.transform(test_data['Text'])\n",
    "tfidf_char_test = tfidf_char.transform(test_data['Text'])\n",
    "X_test_data = test_data.drop(['Text','\"Text_id\"'],axis=1)\n",
    "test_data_sparse = csr_matrix(X_test_data)\n",
    "test_data_tfidf = hstack((tfidf_test,tfidf_char_test,test_data_sparse))"
   ]
  },
  {
   "cell_type": "code",
   "execution_count": 40,
   "metadata": {
    "collapsed": false
   },
   "outputs": [],
   "source": [
    "clusters = kmeans.predict(test_data_tfidf)"
   ]
  },
  {
   "cell_type": "code",
   "execution_count": 41,
   "metadata": {
    "collapsed": true
   },
   "outputs": [],
   "source": [
    "true_clusters = [0 if x else 1 for x in clusters]"
   ]
  },
  {
   "cell_type": "code",
   "execution_count": 42,
   "metadata": {
    "collapsed": false
   },
   "outputs": [],
   "source": [
    "test_cluster_sparse = csr_matrix(clusters.reshape(-1, 1))\n",
    "test_clust_tfidf = hstack((test_data_tfidf, test_cluster_sparse))"
   ]
  },
  {
   "cell_type": "code",
   "execution_count": 43,
   "metadata": {
    "collapsed": true
   },
   "outputs": [],
   "source": [
    "f_pred = forest.predict(test_clust_tfidf)\n",
    "l_pred = logit.predict(test_clust_tfidf)\n",
    "svc_pred = svc.predict(test_clust_tfidf)\n",
    "r_pred = ridge.predict(test_clust_tfidf)"
   ]
  },
  {
   "cell_type": "code",
   "execution_count": 44,
   "metadata": {
    "collapsed": false
   },
   "outputs": [
    {
     "name": "stdout",
     "output_type": "stream",
     "text": [
      "494\n",
      "410\n"
     ]
    }
   ],
   "source": [
    "print(sum(f_pred))\n",
    "for i,pr in enumerate(f_pred):\n",
    "    if test_data['First'][i] == 0:\n",
    "        f_pred[i] = 0\n",
    "        l_pred[i] = 0\n",
    "        svc_pred[i] = 0\n",
    "        r_pred[i] = 0\n",
    "print(sum(f_pred))"
   ]
  },
  {
   "cell_type": "code",
   "execution_count": 45,
   "metadata": {
    "collapsed": false
   },
   "outputs": [],
   "source": [
    "cv_cum_test = [int(round((f_pred[i]*0.2 + r_pred[i]*0.2 + true_clusters[i]*0.2 \n",
    "                 + svc_pred[i]*0.2 + l_pred[i]*0.2))) for i in range(len(f_pred))]"
   ]
  },
  {
   "cell_type": "code",
   "execution_count": 46,
   "metadata": {
    "collapsed": false,
    "scrolled": false
   },
   "outputs": [
    {
     "name": "stdout",
     "output_type": "stream",
     "text": [
      "Accuracy:\n",
      "0.928741092637\n",
      "             precision    recall  f1-score   support\n",
      "\n",
      "          0       1.00      0.93      0.96      4518\n",
      "          1       0.25      0.93      0.39       113\n",
      "\n",
      "avg / total       0.98      0.93      0.95      4631\n",
      "\n"
     ]
    }
   ],
   "source": [
    "# на кросс-валидации\n",
    "from sklearn.metrics import classification_report, accuracy_score\n",
    "print('Accuracy:')\n",
    "print(accuracy_score(np.array(test_target['\"Target\"']).reshape(-1,), cv_cum_test))\n",
    "print(classification_report(np.array(test_target['\"Target\"']).reshape(-1,), cv_cum_test))\n"
   ]
  },
  {
   "cell_type": "code",
   "execution_count": 47,
   "metadata": {
    "collapsed": false
   },
   "outputs": [],
   "source": [
    "# записать таблицу в файл - всю таблицу со всеми признаками, предсказанием и реальными ответами\n",
    "texts = pd.concat((data.reset_index(drop=True), pd.DataFrame(cv_cum), pd.DataFrame(target)), axis = 1) \n",
    "texts.columns = [x if x != 0 else 'predicted' for x in texts.columns]\n",
    "texts.to_csv('predicted.csv',sep=';',index=False)"
   ]
  },
  {
   "cell_type": "code",
   "execution_count": 48,
   "metadata": {
    "collapsed": true
   },
   "outputs": [],
   "source": [
    "# записать только тестовую таблицу\n",
    "test_texts = pd.concat((test_data.reset_index(drop=True), pd.DataFrame(cv_cum_test), test_target), axis = 1) \n",
    "test_texts.columns = [x if x != 0 else 'predicted' for x in texts.columns]\n",
    "test_texts.to_csv('test_predicted.csv',sep=';',index=False)"
   ]
  },
  {
   "cell_type": "markdown",
   "metadata": {},
   "source": [
    "# Обучить на всех пьесах и записать модели в файлы pickle"
   ]
  },
  {
   "cell_type": "code",
   "execution_count": 49,
   "metadata": {
    "collapsed": false
   },
   "outputs": [
    {
     "data": {
      "text/plain": [
       "71870"
      ]
     },
     "execution_count": 49,
     "metadata": {},
     "output_type": "execute_result"
    }
   ],
   "source": [
    "full_data = pd.read_csv('full_data.csv', encoding = 'utf-8-sig', sep = ';')\n",
    "full_target = pd.read_csv('full_target.csv',encoding = 'utf-8-sig', sep = ';' )\n",
    "len(full_data)"
   ]
  },
  {
   "cell_type": "code",
   "execution_count": 58,
   "metadata": {
    "collapsed": true
   },
   "outputs": [],
   "source": [
    "tfidf.fit(full_data['Text'])\n",
    "tfidf_char.fit(full_data['Text'])\n",
    "\n",
    "pickle.dump(tfidf,open('tfidf.pickle','wb'))\n",
    "pickle.dump(tfidf_char,open('tfidf_char.pickle','wb'))"
   ]
  },
  {
   "cell_type": "code",
   "execution_count": 51,
   "metadata": {
    "collapsed": true
   },
   "outputs": [],
   "source": [
    "tfidf_full = tfidf.transform(full_data['Text'])\n",
    "tfidf_char_full = tfidf_char.transform(full_data['Text'])\n",
    "X_full_data = full_data.drop(['Text','\"Text_id\"'],axis=1)\n",
    "full_data_sparse = csr_matrix(X_full_data)\n",
    "full_data_tfidf = hstack((tfidf_full,tfidf_char_full,full_data_sparse))"
   ]
  },
  {
   "cell_type": "code",
   "execution_count": 52,
   "metadata": {
    "collapsed": true
   },
   "outputs": [],
   "source": [
    "kmeans.fit(full_data_tfidf)\n",
    "pickle.dump(kmeans,open('kmeans.pickle','wb'))"
   ]
  },
  {
   "cell_type": "code",
   "execution_count": 53,
   "metadata": {
    "collapsed": true
   },
   "outputs": [],
   "source": [
    "clusters = kmeans.labels_\n",
    "true_clusters = [0 if x else 1 for x in clusters]"
   ]
  },
  {
   "cell_type": "code",
   "execution_count": 54,
   "metadata": {
    "collapsed": true
   },
   "outputs": [],
   "source": [
    "full_cluster_sparse = csr_matrix(clusters.reshape(-1, 1))\n",
    "full_clust_tfidf = hstack((full_data_tfidf, full_cluster_sparse))"
   ]
  },
  {
   "cell_type": "code",
   "execution_count": 55,
   "metadata": {
    "collapsed": true
   },
   "outputs": [],
   "source": [
    "forest.fit(full_clust_tfidf, np.array(full_target['\"Target\"']).reshape(-1,))\n",
    "logit.fit(full_clust_tfidf, np.array(full_target['\"Target\"']).reshape(-1,))\n",
    "svc.fit(full_clust_tfidf, np.array(full_target['\"Target\"']).reshape(-1,))\n",
    "ridge.fit(full_clust_tfidf, np.array(full_target['\"Target\"']).reshape(-1,))\n",
    "\n",
    "pickle.dump(forest,open('forest.pickle','wb'))\n",
    "pickle.dump(logit,open('logit.pickle','wb'))\n",
    "pickle.dump(svc,open('svc.pickle','wb'))\n",
    "pickle.dump(ridge,open('ridge.pickle','wb'))"
   ]
  },
  {
   "cell_type": "code",
   "execution_count": 59,
   "metadata": {
    "collapsed": false
   },
   "outputs": [
    {
     "data": {
      "text/plain": [
       "(<71870x3041 sparse matrix of type '<class 'numpy.float64'>'\n",
       " \twith 154978 stored elements in Compressed Sparse Row format>,\n",
       " <71870x3041 sparse matrix of type '<class 'numpy.float64'>'\n",
       " \twith 154978 stored elements in Compressed Sparse Row format>)"
      ]
     },
     "execution_count": 59,
     "metadata": {},
     "output_type": "execute_result"
    }
   ],
   "source": [
    "tfidf_f = pickle.load(open('tfidf.pickle','rb'))\n",
    "tfidf_f_full = tfidf_f.transform(full_data['Text'])\n",
    "\n",
    "tfidf_full,tfidf_f_full"
   ]
  }
 ],
 "metadata": {
  "anaconda-cloud": {},
  "kernelspec": {
   "display_name": "Python [default]",
   "language": "python",
   "name": "python3"
  },
  "language_info": {
   "codemirror_mode": {
    "name": "ipython",
    "version": 3
   },
   "file_extension": ".py",
   "mimetype": "text/x-python",
   "name": "python",
   "nbconvert_exporter": "python",
   "pygments_lexer": "ipython3",
   "version": "3.5.2"
  }
 },
 "nbformat": 4,
 "nbformat_minor": 1
}
